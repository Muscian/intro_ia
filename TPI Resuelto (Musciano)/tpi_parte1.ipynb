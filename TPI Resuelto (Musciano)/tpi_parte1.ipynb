{
  "cells": [
    {
      "cell_type": "markdown",
      "id": "07289bb0",
      "metadata": {
        "id": "07289bb0"
      },
      "source": [
        "# Trabajo integrador - Parte 1\n",
        "## Python y Numpy\n",
        "\n",
        "**Nombre**:"
      ]
    },
    {
      "cell_type": "code",
      "execution_count": 1,
      "id": "aaf94e0a",
      "metadata": {
        "id": "aaf94e0a"
      },
      "outputs": [],
      "source": [
        "import numpy as np"
      ]
    },
    {
      "cell_type": "markdown",
      "id": "0ffe9554",
      "metadata": {
        "id": "0ffe9554"
      },
      "source": [
        "## Ejercicio 1\n",
        "\n",
        "Dada una matriz en formato *numpy array*, donde cada fila de la matriz representa un vector matemático, se requiere computar las normas $l_0$, $l_1$, $l_2$, $l_{\\infty}$, según la siguientes definiciones:\n",
        "\n",
        "\\begin{equation}\n",
        "    ||\\mathbf{x}||^{p} = \\bigg(\\sum_{j=1}^{n}{|x_i|^p}\\bigg)^{\\frac{1}{p}}\n",
        "\\end{equation}\n",
        "\n",
        "con los casos especiales para $p=0$ y $p=\\infty$ siendo:\n",
        "\n",
        "\\begin{equation}\n",
        "    \\begin{array}{rcl}\n",
        "        ||\\mathbf{x}||_0 & = & \\bigg(\\sum_{j=1 \\wedge x_j != 0}{|x_i|}\\bigg)\\\\\n",
        "        ||\\mathbf{x}||_{\\infty} & = & \\max_{i}{|x_i|}\\\\\n",
        "    \\end{array}\n",
        "\\end{equation}"
      ]
    },
    {
      "cell_type": "code",
      "execution_count": 14,
      "id": "0bdb0ee3",
      "metadata": {
        "colab": {
          "base_uri": "https://localhost:8080/"
        },
        "id": "0bdb0ee3",
        "outputId": "239d6c47-156c-4878-eb20-51c851c724f8"
      },
      "outputs": [
        {
          "output_type": "stream",
          "name": "stdout",
          "text": [
            "[[-1  2  3]\n",
            " [ 4 -5  6]\n",
            " [ 7  8 -9]]\n",
            "l0: [4 5 6], l1: [ 6 15 24]\n",
            "l2: [ 3.74165739  8.77496439 13.92838828]\n",
            "linf: [3 6 9]\n"
          ]
        }
      ],
      "source": [
        "# Ya que se solicita la solución para cualquier matriz dada, procedo a escribir una función que resuelva el ejercicio:\n",
        "def calculate_norms(matrix):\n",
        "  l0 = np.sum(matrix, axis=1)\n",
        "  l1 = np.sum(np.abs(matrix),axis=1)\n",
        "  l2 = np.sqrt(np.sum(matrix**2,axis=1))\n",
        "  linf = np.max(np.abs(matrix),axis=1)\n",
        "  return l0, l1, l2, linf\n",
        "\n",
        "# Test code\n",
        "m = np.array([[-1, 2, 3],[4, -5,6],[7, 8,-9]])\n",
        "l0, l1, l2, linf = calculate_norms(m)\n",
        "print(f\"{m}\\nl0: {l0}, l1: {l1}\\nl2: {l2}\\nlinf: {linf}\")"
      ]
    },
    {
      "cell_type": "markdown",
      "id": "dd66d862",
      "metadata": {
        "id": "dd66d862"
      },
      "source": [
        "## Ejercicio 2\n",
        "\n",
        "En clasificación contamos con dos arreglos, la “verdad” y la “predicción”. Cada elemento de los arreglos pueden tomar dos valores, “True” (representado por 1) y “False” (representado por 0). Entonces podemos definir 4 variables:\n",
        "\n",
        "* True Positive (TP): El valor verdadero es 1 y el valor predicho es 1\n",
        "* True Negative (TN): El valor verdadero es 0 y el valor predicho es 0\n",
        "* False Positive (FP): El valor verdadero es 0 y el valor predicho es 1\n",
        "* False Negative (FN): El valor verdadero es 1 y el valor predicho es 0\n",
        "\n",
        "A partir de esto definimos:\n",
        "\n",
        "* Precision = TP / (TP + FP)\n",
        "* Recall = TP / (TP + FN)\n",
        "* Accuracy = (TP + TN) / (TP + TN + FP + FN)\n",
        "\n",
        "Calcular las 3 métricas con Numpy y operaciones vectorizadas."
      ]
    },
    {
      "cell_type": "code",
      "execution_count": 16,
      "id": "794dcd58",
      "metadata": {
        "colab": {
          "base_uri": "https://localhost:8080/"
        },
        "id": "794dcd58",
        "outputId": "1865ebb4-3c32-424e-90b7-f2c9087219d8"
      },
      "outputs": [
        {
          "output_type": "stream",
          "name": "stdout",
          "text": [
            "TP: 3, TN: 1, FP: 3, FN: 3\n",
            "Precision: 3/(3+3)=0.5\n",
            "Recall: 3/(3+3) = 0.5\n",
            "Accuracy: (3+1)/10 = 0.4\n"
          ]
        }
      ],
      "source": [
        "truth = np.array([1,1,0,1,1,1,0,0,0,1])\n",
        "prediction = np.array([1,1,1,1,0,0,1,1,0,0])\n",
        "\n",
        "# Primero filtramos las distintas categorias y las contamos en variables:\n",
        "TP = np.sum((truth==1) & (prediction == 1))\n",
        "TN = np.sum((truth==0) & (prediction == 0))\n",
        "FP = np.sum((truth==0) & (prediction == 1))\n",
        "FN = np.sum((truth==1) & (prediction == 0))\n",
        "\n",
        "# Calculamos las tres métricas\n",
        "precision = TP/(TP+FP)\n",
        "recall = TP/(TP+FN)\n",
        "accuracy = (TP + TN)/(TP + TN + FP + FN)\n",
        "\n",
        "# Mostramos resultados\n",
        "print(f\"TP: {TP}, TN: {TN}, FP: {FP}, FN: {FN}\")\n",
        "print(f\"Precision: {TP}/({TP}+{FP})={precision}\")\n",
        "print(f\"Recall: {TP}/({TP}+{FN}) = {recall}\")\n",
        "print(f\"Accuracy: ({TP}+{TN})/{TP+TN+FP+FN} = {accuracy}\")\n",
        "\n"
      ]
    },
    {
      "cell_type": "markdown",
      "id": "d0ac6f6f",
      "metadata": {
        "id": "d0ac6f6f"
      },
      "source": [
        "## Ejercicio 3\n",
        "\n",
        "Crear una función que separe los datos en train-validation-test. Debe recibir de parametros:\n",
        "\n",
        "- X: Array o Dataframe que contiene los datos de entrada del sistema.\n",
        "- y: Array o Dataframe que contiene la(s) variable(s) target del problema.\n",
        "- train_percentage: _float_ el porcentaje de training.\n",
        "- test_percentage: _float_ el porcentaje de testing.\n",
        "- val_percentage: _float_ el porcentaje de validación.\n",
        "- shuffle: _bool_ determina si el split debe hacerse de manera random o no.\n",
        "\n",
        "Hints:\n",
        "\n",
        "* Usar Indexing y slicing\n",
        "* Usar np.random.[...]"
      ]
    },
    {
      "cell_type": "code",
      "execution_count": 19,
      "id": "ca85fc66",
      "metadata": {
        "id": "ca85fc66"
      },
      "outputs": [],
      "source": [
        "def split(X_input,\n",
        "          Y_input,\n",
        "          train_size=0.7,\n",
        "          val_size=0.15,\n",
        "          test_size=0.15,\n",
        "          random_state=42,\n",
        "          shuffle=True):\n",
        "\n",
        "  # Chequeamos que las particiones deseadas den 1 en total:\n",
        "  assert(train_size + val_size + test_size) == 1, \"La suma de los porcentajes debe ser 1\"\n",
        "\n",
        "  if(shuffle):\n",
        "    idx = np.random.permutation(len(X_input))\n",
        "    X_input = X_input[idx]\n",
        "    Y_input = Y_input[idx]\n",
        "\n",
        "  # Nos quedamos con los tamaños de cada subset de datos (para luego usar en el slicing):\n",
        "  train_size *= len(X_input)\n",
        "  test_size *= len(X_input)\n",
        "\n",
        "  #Usamos slicing para dividir los datos:\n",
        "  X_train = X_input[:train_size]\n",
        "  y_train = Y_input[:train_size]\n",
        "\n",
        "  X_test = X_input[train_size:train_size + test_size]\n",
        "  y_test = Y_input[train_size:train_size + test_size]\n",
        "\n",
        "  X_val = X_input[train_size + test_size:]\n",
        "  y_val = Y_input[train_size + test_size:]\n",
        "\n",
        "  # Devolvemos todos los valores calculados\n",
        "  return (X_train, Y_train, X_test, Y_test, X_val, Y_val)"
      ]
    }
  ],
  "metadata": {
    "colab": {
      "provenance": []
    },
    "kernelspec": {
      "display_name": "Python 3.10.7 64-bit",
      "language": "python",
      "name": "python3"
    },
    "language_info": {
      "codemirror_mode": {
        "name": "ipython",
        "version": 3
      },
      "file_extension": ".py",
      "mimetype": "text/x-python",
      "name": "python",
      "nbconvert_exporter": "python",
      "pygments_lexer": "ipython3",
      "version": "3.9.16"
    },
    "vscode": {
      "interpreter": {
        "hash": "b5c22da4a52024410f64f9c5a5e2b4ffeeb944a5ed00e8825a42174cdab30315"
      }
    }
  },
  "nbformat": 4,
  "nbformat_minor": 5
}